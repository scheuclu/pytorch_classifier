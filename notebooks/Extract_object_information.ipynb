{
 "cells": [
  {
   "cell_type": "markdown",
   "metadata": {},
   "source": [
    "The goal of this script is to read in all images and corresponding xml files in the dataset and then create a list of all objects in the dataset, their class, position, corresponding image filename and sub-index in the xml file."
   ]
  },
  {
   "cell_type": "code",
   "execution_count": 1,
   "metadata": {
    "collapsed": true
   },
   "outputs": [],
   "source": [
    "import os\n",
    "import tqdm\n",
    "import cv2\n",
    "import xmltodict\n",
    "import io\n",
    "from collections import namedtuple\n",
    "from tqdm import tqdm_notebook as tqdm\n",
    "import matplotlib.pyplot as plt\n",
    "%matplotlib inline\n",
    "os.environ['CUDA_VISIBLE_DEVICES'] = \"\""
   ]
  },
  {
   "cell_type": "code",
   "execution_count": null,
   "metadata": {
    "collapsed": true
   },
   "outputs": [],
   "source": [
    "DATA_PATH = '/raid/group-data/uc150429/AID_DATA_201803/'\n",
    "IMG_PATH = os.path.join(DATA_PATH,'original_image')\n",
    "BBOX_PATH = os.path.join(DATA_PATH, '2d_bounding_box')"
   ]
  },
  {
   "cell_type": "code",
   "execution_count": null,
   "metadata": {
    "collapsed": true
   },
   "outputs": [],
   "source": [
    "idx_bbox = set([name.replace('.xml','') for name in os.listdir(BBOX_PATH)])\n",
    "idx_img = set([name.replace('.png','') for name in os.listdir(IMG_PATH)])"
   ]
  },
  {
   "cell_type": "code",
   "execution_count": null,
   "metadata": {
    "collapsed": true
   },
   "outputs": [],
   "source": [
    "idxs = idx_bbox.intersection(idx_img)\n",
    "print(len(idxs))"
   ]
  },
  {
   "cell_type": "markdown",
   "metadata": {},
   "source": []
  },
  {
   "cell_type": "code",
   "execution_count": null,
   "metadata": {
    "collapsed": true
   },
   "outputs": [],
   "source": [
    "IndexEntry = namedtuple('IndexEntry', ['img_path', 'sub_idx', 'classname', 'left', 'top', 'right', 'bottom'], verbose=False);\n",
    "IndexEntry('a', 1, 'b', 1,2,3,4)"
   ]
  },
  {
   "cell_type": "markdown",
   "metadata": {},
   "source": [
    "The purpose of this function is to given a bounding box, increase it's size in all directions, but staying within valid coordinates"
   ]
  },
  {
   "cell_type": "code",
   "execution_count": null,
   "metadata": {
    "collapsed": true
   },
   "outputs": [],
   "source": [
    "def extend_ltwh(l,t,w,h):\n",
    "    lnew = max(l-(w>>1),0)\n",
    "    bnew = min(1207, t+h+(h>>1))\n",
    "    tnew = max(0, t-(h>>1))\n",
    "    rnew = min(1919, l+w+(w>>1))\n",
    "    return lnew, tnew, rnew, bnew"
   ]
  },
  {
   "cell_type": "markdown",
   "metadata": {},
   "source": [
    "The purpose of this file is to, given an identifier idx, extract all the information about object in the corresponding files"
   ]
  },
  {
   "cell_type": "code",
   "execution_count": null,
   "metadata": {
    "collapsed": true
   },
   "outputs": [],
   "source": [
    "def get_index_entries_from_file(idx):\n",
    "    def intfloat(s):\n",
    "        return int(float(s))\n",
    "\n",
    "    xml_path = os.path.join(BBOX_PATH,idx+'.xml')\n",
    "    img_path = os.path.join(IMG_PATH,idx+'.png')\n",
    "    fh = io.open(xml_path, 'r', encoding='utf-8-sig')\n",
    "    xmlo = xmltodict.parse(fh.read())\n",
    "    \n",
    "    entries = []\n",
    "    \n",
    "    print( xmlo['bboxes']['bbox'])\n",
    "    if type(xmlo['bboxes']['bbox'])!=list:\n",
    "        return entries\n",
    "    for subidx, bbox in enumerate(xmlo['bboxes']['bbox']):\n",
    "        ###print(bbox,'\\n')\n",
    "        c = bbox['@class']\n",
    "        ###print(c)\n",
    "        l, t, r, b = ( intfloat(bbox['left']), intfloat(bbox['top']), intfloat(bbox['right']), intfloat(bbox['bottom']) )\n",
    "        ###print(l, t, r, b)\n",
    "        l,t,r,b = extend_ltwh(l,t,r-l, b-t)\n",
    "        ###print(l,t,r,b)\n",
    "        entries.append(IndexEntry(img_path = img_path,\n",
    "                                  sub_idx = subidx,\n",
    "                          classname = c,\n",
    "                          left = l,\n",
    "                          top = t,\n",
    "                          right = r,\n",
    "                          bottom = b,\n",
    "                         ))\n",
    "    return entries"
   ]
  },
  {
   "cell_type": "markdown",
   "metadata": {},
   "source": [
    "plot an entry"
   ]
  },
  {
   "cell_type": "code",
   "execution_count": null,
   "metadata": {
    "collapsed": true
   },
   "outputs": [],
   "source": [
    "def plot_index_entry(entry):\n",
    "    img = cv2.imread(entry.img_path)\n",
    "    plt.figure()\n",
    "    plt.imshow(img[entry.top:entry.bottom,entry.left:entry.right,::-1]);"
   ]
  },
  {
   "cell_type": "markdown",
   "metadata": {},
   "source": [
    "Get all entries"
   ]
  },
  {
   "cell_type": "code",
   "execution_count": null,
   "metadata": {
    "collapsed": true
   },
   "outputs": [],
   "source": [
    "all_entries = []\n",
    "count=0\n",
    "for idx in tqdm(list(idxs)):\n",
    "    count+=1\n",
    "    #print(idx)\n",
    "    all_entries+=get_index_entries_from_file(idx)\n",
    "print(count)"
   ]
  },
  {
   "cell_type": "markdown",
   "metadata": {},
   "source": [
    "Save list of entries to disk"
   ]
  },
  {
   "cell_type": "code",
   "execution_count": null,
   "metadata": {
    "collapsed": true
   },
   "outputs": [],
   "source": [
    "import pickle\n",
    "with open('/raid/user-data/lscheucher/projects/bounding_box_classifier/full_object_index.pickle', 'wb') as f:\n",
    "    pickle.dump(all_entries, f)"
   ]
  },
  {
   "cell_type": "markdown",
   "metadata": {},
   "source": [
    "#TODO, must modfify"
   ]
  },
  {
   "cell_type": "code",
   "execution_count": null,
   "metadata": {
    "collapsed": true
   },
   "outputs": [],
   "source": [
    "import pickle\n",
    "with open('/raid/user-data/lscheucher/projects/bounding_box_classifier/full_object_index.pickle', 'wb') as f:\n",
    "    pickle.dump(all_entries, f)"
   ]
  }
 ],
 "metadata": {
  "kernelspec": {
   "display_name": "tensorrt_new",
   "language": "python",
   "name": "tensorrt"
  },
  "language_info": {
   "codemirror_mode": {
    "name": "ipython",
    "version": 3
   },
   "file_extension": ".py",
   "mimetype": "text/x-python",
   "name": "python",
   "nbconvert_exporter": "python",
   "pygments_lexer": "ipython3",
   "version": "3.5.4"
  }
 },
 "nbformat": 4,
 "nbformat_minor": 2
}
