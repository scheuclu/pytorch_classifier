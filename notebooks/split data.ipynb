{
 "cells": [
  {
   "cell_type": "markdown",
   "metadata": {},
   "source": [
    "The purpose of this script is simple: given a data folder with classes separated into subfolder, create a 50/50 split of the data, so that 50% can be used for training, an the so trained model is then evaluated on the other 50 %\n",
    "\n",
    "``` \n",
    "data                 data               train0\n",
    "|                    |                  |\n",
    "|_class1    _>       |_train0           |_class1(contains symlinks to images in data/class1_\n",
    "|                    |                  |\n",
    "|_class2             |_val0             |_class2\n",
    "|                    |                  |\n",
    "                     |_train1\n",
    "                     |\n",
    "                     |_val1\n",
    "                     |\n",
    "                     |_class1\n",
    "                     |\n",
    "                     |_class1\n",
    "                     |\n",
    "\n",
    "```"
   ]
  },
  {
   "cell_type": "code",
   "execution_count": 2,
   "metadata": {
    "collapsed": true
   },
   "outputs": [],
   "source": [
    "import os\n",
    "DATADIR = '/raid/user-data/lscheucher/tmp/pytorch_classifier_data'\n",
    "classes= ['Car', 'Pedestrian', 'Cyclist', 'TrafficSign', 'TrafficSignal']"
   ]
  },
  {
   "cell_type": "code",
   "execution_count": 5,
   "metadata": {
    "collapsed": true
   },
   "outputs": [],
   "source": [
    "TRAINDIR0 = os.path.join(DATADIR,'train0')\n",
    "VALDIR0 = os.path.join(DATADIR,'val0')\n",
    "TRAINDIR1 = os.path.join(DATADIR,'train1')\n",
    "VALDIR1 = os.path.join(DATADIR,'val1')\n",
    "\n",
    "if not os.path.isdir(TRAINDIR0): os.mkdir(TRAINDIR0)\n",
    "if not os.path.isdir(VALDIR0): os.mkdir(VALDIR0)\n",
    "if not os.path.isdir(TRAINDIR1): os.mkdir(TRAINDIR1)\n",
    "if not os.path.isdir(VALDIR1): os.mkdir(VALDIR1)\n",
    "\n",
    "\n"
   ]
  },
  {
   "cell_type": "code",
   "execution_count": 12,
   "metadata": {
    "collapsed": true
   },
   "outputs": [],
   "source": [
    "from tqdm import tqdm as tqdm"
   ]
  },
  {
   "cell_type": "code",
   "execution_count": 20,
   "metadata": {},
   "outputs": [
    {
     "name": "stderr",
     "output_type": "stream",
     "text": [
      "100%|██████████| 139234/139234 [00:23<00:00, 5984.52it/s]\n",
      "100%|██████████| 139235/139235 [00:23<00:00, 5903.54it/s]\n",
      "100%|██████████| 13599/13599 [00:02<00:00, 5506.59it/s]\n",
      "100%|██████████| 13600/13600 [00:02<00:00, 5575.22it/s]\n",
      "100%|██████████| 3024/3024 [00:00<00:00, 4295.22it/s]\n",
      "100%|██████████| 3024/3024 [00:00<00:00, 6829.48it/s]\n",
      "100%|██████████| 68997/68997 [00:11<00:00, 5869.73it/s]\n",
      "100%|██████████| 68998/68998 [00:11<00:00, 5903.38it/s]\n",
      "100%|██████████| 7507/7507 [00:01<00:00, 5848.08it/s]\n",
      "100%|██████████| 7507/7507 [00:01<00:00, 5460.29it/s]\n"
     ]
    }
   ],
   "source": [
    "for classname in classes:\n",
    "    img_list = os.listdir(os.path.join(DATADIR,classname))\n",
    "    train_list = img_list[:len(img_list)>>1]\n",
    "    val_list = img_list[len(img_list)>>1:]\n",
    "    for filename in tqdm(train_list):\n",
    "        if not os.path.isdir(os.path.join(DATADIR,'train0',classname)):\n",
    "            os.mkdir(os.path.join(DATADIR,'train0',classname))\n",
    "        src = os.path.join(DATADIR,classname,filename)\n",
    "        dst = os.path.join(DATADIR,'train0',classname,filename)\n",
    "        os.symlink(src, dst)\n",
    "        \n",
    "        if not os.path.isdir(os.path.join(DATADIR,'val1',classname)):\n",
    "            os.mkdir(os.path.join(DATADIR,'val1',classname))\n",
    "        src = os.path.join(DATADIR,classname,filename)\n",
    "        dst = os.path.join(DATADIR,'val1',classname,filename)\n",
    "        os.symlink(src, dst)\n",
    "        \n",
    "    for filename in tqdm(val_list):\n",
    "        if not os.path.isdir(os.path.join(DATADIR,'val0',classname)):\n",
    "            os.mkdir(os.path.join(DATADIR,'val0',classname))\n",
    "        src = os.path.join(DATADIR,classname,filename)\n",
    "        dst = os.path.join(DATADIR,'val0',classname,filename)\n",
    "        os.symlink(src, dst)\n",
    "        \n",
    "        if not os.path.isdir(os.path.join(DATADIR,'train1',classname)):\n",
    "            os.mkdir(os.path.join(DATADIR,'train1',classname))\n",
    "        src = os.path.join(DATADIR,classname,filename)\n",
    "        dst = os.path.join(DATADIR,'train1',classname,filename)\n",
    "        os.symlink(src, dst)\n",
    "\n"
   ]
  },
  {
   "cell_type": "code",
   "execution_count": 22,
   "metadata": {},
   "outputs": [
    {
     "data": {
      "text/plain": [
       "278469"
      ]
     },
     "execution_count": 22,
     "metadata": {},
     "output_type": "execute_result"
    }
   ],
   "source": [
    "classname = 'Car'\n",
    "img_list = os.listdir(os.path.join(DATADIR,classname))\n",
    "len(img_list)"
   ]
  },
  {
   "cell_type": "code",
   "execution_count": 23,
   "metadata": {},
   "outputs": [
    {
     "data": {
      "text/plain": [
       "139234"
      ]
     },
     "execution_count": 23,
     "metadata": {},
     "output_type": "execute_result"
    }
   ],
   "source": [
    "classname = 'Car'\n",
    "img_list = os.listdir(os.path.join(DATADIR,'train0',classname))\n",
    "len(img_list)"
   ]
  }
 ],
 "metadata": {
  "kernelspec": {
   "display_name": "tensorrt_new",
   "language": "python",
   "name": "tensorrt"
  },
  "language_info": {
   "codemirror_mode": {
    "name": "ipython",
    "version": 3
   },
   "file_extension": ".py",
   "mimetype": "text/x-python",
   "name": "python",
   "nbconvert_exporter": "python",
   "pygments_lexer": "ipython3",
   "version": "3.5.4"
  }
 },
 "nbformat": 4,
 "nbformat_minor": 2
}
